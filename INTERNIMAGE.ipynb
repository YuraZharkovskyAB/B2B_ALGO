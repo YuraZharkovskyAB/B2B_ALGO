{
 "cells": [
  {
   "attachments": {},
   "cell_type": "markdown",
   "metadata": {},
   "source": [
    "## InternImage"
   ]
  },
  {
   "cell_type": "code",
   "execution_count": 7,
   "metadata": {},
   "outputs": [
    {
     "name": "stderr",
     "output_type": "stream",
     "text": [
      "/opt/conda/envs/internimage/lib/python3.7/site-packages/IPython/extensions/autoreload.py:121: DeprecationWarning: the imp module is deprecated in favour of importlib; see the module's documentation for alternative uses\n",
      "  from imp import reload\n"
     ]
    }
   ],
   "source": [
    "%load_ext autoreload\n",
    "%autoreload 2"
   ]
  },
  {
   "cell_type": "code",
   "execution_count": 8,
   "metadata": {},
   "outputs": [],
   "source": [
    "import sys\n",
    "sys.path.append('./detection/tools')\n",
    "from common_utils import infer"
   ]
  },
  {
   "cell_type": "code",
   "execution_count": 9,
   "metadata": {},
   "outputs": [],
   "source": [
    "ROOT = '/home/ubuntu/InternImage/detection'\n",
    "IMAGE_PATH = f'{ROOT}/images/1662976481024636.png'\n",
    "OUTPUT_DIR = f'{ROOT}/results'\n",
    "CONFIG = f'{ROOT}/configs/coco/cascade_internimage_xl_fpn_3x_coco.py'\n",
    "CHECKPOINT = f'{ROOT}/checkpoints/cascade_internimage_xl_fpn_3x_coco.pth'\n",
    "SCORE_THR = 0.15"
   ]
  },
  {
   "cell_type": "code",
   "execution_count": 11,
   "metadata": {},
   "outputs": [
    {
     "name": "stderr",
     "output_type": "stream",
     "text": [
      "2023-06-20 10:46:17,952 - mmdet - INFO - using core type: DCNv3\n",
      "2023-06-20 10:46:17,953 - mmdet - INFO - using activation layer: GELU\n",
      "2023-06-20 10:46:17,954 - mmdet - INFO - using main norm layer: LN\n",
      "2023-06-20 10:46:17,954 - mmdet - INFO - using dpr: linear, 0.6\n",
      "2023-06-20 10:46:17,954 - mmdet - INFO - level2_post_norm: False\n",
      "2023-06-20 10:46:17,955 - mmdet - INFO - level2_post_norm_block_ids: None\n",
      "2023-06-20 10:46:17,955 - mmdet - INFO - res_post_norm: False\n"
     ]
    },
    {
     "name": "stdout",
     "output_type": "stream",
     "text": [
      "load checkpoint from local path: /home/ubuntu/InternImage/detection/checkpoints/cascade_internimage_xl_fpn_3x_coco.pth\n"
     ]
    },
    {
     "name": "stderr",
     "output_type": "stream",
     "text": [
      "/opt/conda/envs/internimage/lib/python3.7/site-packages/mmdet/apis/inference.py:51: UserWarning: Class names are not saved in the checkpoint's meta data, use COCO classes by default.\n",
      "  warnings.warn('Class names are not saved in the checkpoint\\'s '\n",
      "/opt/conda/envs/internimage/lib/python3.7/site-packages/mmdet/datasets/utils.py:70: UserWarning: \"ImageToTensor\" pipeline is replaced by \"DefaultFormatBundle\" for batch inference. It is recommended to manually replace it in the test data pipeline in your config file.\n",
      "  'data pipeline in your config file.', UserWarning)\n"
     ]
    }
   ],
   "source": [
    "results = infer(img = IMAGE_PATH,\n",
    "      score_thr =  SCORE_THR,\n",
    "      out = OUTPUT_DIR, \n",
    "      config = CONFIG, \n",
    "      checkpoint = CHECKPOINT)"
   ]
  },
  {
   "cell_type": "code",
   "execution_count": null,
   "metadata": {},
   "outputs": [],
   "source": []
  }
 ],
 "metadata": {
  "kernelspec": {
   "display_name": "internimage",
   "language": "python",
   "name": "python3"
  },
  "language_info": {
   "codemirror_mode": {
    "name": "ipython",
    "version": 3
   },
   "file_extension": ".py",
   "mimetype": "text/x-python",
   "name": "python",
   "nbconvert_exporter": "python",
   "pygments_lexer": "ipython3",
   "version": "3.7.12"
  },
  "orig_nbformat": 4
 },
 "nbformat": 4,
 "nbformat_minor": 2
}
