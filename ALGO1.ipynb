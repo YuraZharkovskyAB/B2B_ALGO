{
 "cells": [
  {
   "cell_type": "markdown",
   "id": "05bf894b-2c03-4976-8bff-1c3b2b398531",
   "metadata": {
    "tags": []
   },
   "source": [
    "## YoloV8 (detection on P0) "
   ]
  },
  {
   "cell_type": "code",
   "execution_count": 1,
   "id": "8b1b268c-2d1d-4864-93ab-e8f5303854af",
   "metadata": {
    "tags": []
   },
   "outputs": [],
   "source": [
    "import os\n",
    "import tqdm\n",
    "import mmcv\n",
    "import torch\n",
    "import json\n",
    "import numpy as np\n",
    "import pandas as pd"
   ]
  },
  {
   "cell_type": "markdown",
   "id": "7e38941c-79ba-4147-ac6d-6c1aaa24c93e",
   "metadata": {
    "tags": []
   },
   "source": [
    "## Constants"
   ]
  },
  {
   "cell_type": "code",
   "execution_count": 2,
   "id": "08bafb5c-c364-447f-a6b8-6ff498a82f6e",
   "metadata": {
    "tags": []
   },
   "outputs": [],
   "source": [
    "DATASET_PATH = '/home/ubuntu/git/B2B_ALGO/datasets/ab_car_validation_germany'\n",
    "GT_PATH = f'{DATASET_PATH}/annotations/gt.tsv'\n",
    "\n",
    "RESULTS_PATH = '/home/ubuntu/git/B2B_ALGO/results/ALGO1'"
   ]
  },
  {
   "cell_type": "markdown",
   "id": "d542ad1f-c55c-4e76-a37f-6b9584ad1f76",
   "metadata": {
    "tags": []
   },
   "source": [
    "## Data"
   ]
  },
  {
   "cell_type": "code",
   "execution_count": 3,
   "id": "27743938-fde3-49ac-a690-968f9bdd8e5e",
   "metadata": {
    "tags": []
   },
   "outputs": [
    {
     "data": {
      "text/html": [
       "<div>\n",
       "<style scoped>\n",
       "    .dataframe tbody tr th:only-of-type {\n",
       "        vertical-align: middle;\n",
       "    }\n",
       "\n",
       "    .dataframe tbody tr th {\n",
       "        vertical-align: top;\n",
       "    }\n",
       "\n",
       "    .dataframe thead th {\n",
       "        text-align: right;\n",
       "    }\n",
       "</style>\n",
       "<table border=\"1\" class=\"dataframe\">\n",
       "  <thead>\n",
       "    <tr style=\"text-align: right;\">\n",
       "      <th></th>\n",
       "      <th>name</th>\n",
       "      <th>x_center</th>\n",
       "      <th>y_center</th>\n",
       "      <th>width</th>\n",
       "      <th>height</th>\n",
       "      <th>label</th>\n",
       "      <th>is_occluded</th>\n",
       "      <th>is_truncated</th>\n",
       "      <th>d3_separation</th>\n",
       "      <th>custom_2</th>\n",
       "      <th>back_wheel</th>\n",
       "      <th>l_label</th>\n",
       "      <th>is_not_in_lane</th>\n",
       "      <th>is_rider_on_2_wheels</th>\n",
       "      <th>is_occluded_over_80</th>\n",
       "      <th>front_wheel</th>\n",
       "      <th>r_label</th>\n",
       "    </tr>\n",
       "  </thead>\n",
       "  <tbody>\n",
       "    <tr>\n",
       "      <th>0</th>\n",
       "      <td>1662979321795878.png</td>\n",
       "      <td>2171.122632</td>\n",
       "      <td>970.353636</td>\n",
       "      <td>156.774697</td>\n",
       "      <td>184.322566</td>\n",
       "      <td>TRAILER</td>\n",
       "      <td>0</td>\n",
       "      <td>0</td>\n",
       "      <td>2117.500108</td>\n",
       "      <td>1</td>\n",
       "      <td>(0, 0)</td>\n",
       "      <td>SIDE</td>\n",
       "      <td>0</td>\n",
       "      <td>0</td>\n",
       "      <td>0</td>\n",
       "      <td>(0, 0)</td>\n",
       "      <td>BACK</td>\n",
       "    </tr>\n",
       "    <tr>\n",
       "      <th>1</th>\n",
       "      <td>1662979321795878.png</td>\n",
       "      <td>1880.390755</td>\n",
       "      <td>970.000000</td>\n",
       "      <td>83.218490</td>\n",
       "      <td>99.000000</td>\n",
       "      <td>VAN_CIPV</td>\n",
       "      <td>0</td>\n",
       "      <td>0</td>\n",
       "      <td>0.000000</td>\n",
       "      <td>1</td>\n",
       "      <td>(0, 0)</td>\n",
       "      <td>BACK</td>\n",
       "      <td>0</td>\n",
       "      <td>0</td>\n",
       "      <td>0</td>\n",
       "      <td>(0, 0)</td>\n",
       "      <td>BACK</td>\n",
       "    </tr>\n",
       "    <tr>\n",
       "      <th>2</th>\n",
       "      <td>1662979321795878.png</td>\n",
       "      <td>2070.000000</td>\n",
       "      <td>994.000000</td>\n",
       "      <td>64.000000</td>\n",
       "      <td>113.500000</td>\n",
       "      <td>CAR_NLV</td>\n",
       "      <td>1</td>\n",
       "      <td>0</td>\n",
       "      <td>2075.689347</td>\n",
       "      <td>1</td>\n",
       "      <td>(0, 0)</td>\n",
       "      <td>SIDE</td>\n",
       "      <td>0</td>\n",
       "      <td>0</td>\n",
       "      <td>0</td>\n",
       "      <td>(0, 0)</td>\n",
       "      <td>BACK</td>\n",
       "    </tr>\n",
       "    <tr>\n",
       "      <th>3</th>\n",
       "      <td>1662979321795878.png</td>\n",
       "      <td>1659.000000</td>\n",
       "      <td>948.000000</td>\n",
       "      <td>36.000000</td>\n",
       "      <td>11.000000</td>\n",
       "      <td>IGNORE_VEHICLE</td>\n",
       "      <td>0</td>\n",
       "      <td>0</td>\n",
       "      <td>0.000000</td>\n",
       "      <td>1</td>\n",
       "      <td>(0, 0)</td>\n",
       "      <td>None</td>\n",
       "      <td>0</td>\n",
       "      <td>0</td>\n",
       "      <td>0</td>\n",
       "      <td>(0, 0)</td>\n",
       "      <td>None</td>\n",
       "    </tr>\n",
       "    <tr>\n",
       "      <th>4</th>\n",
       "      <td>1662979321795878.png</td>\n",
       "      <td>1590.874271</td>\n",
       "      <td>946.900594</td>\n",
       "      <td>25.344941</td>\n",
       "      <td>14.297744</td>\n",
       "      <td>IGNORE_VEHICLE</td>\n",
       "      <td>0</td>\n",
       "      <td>0</td>\n",
       "      <td>0.000000</td>\n",
       "      <td>1</td>\n",
       "      <td>(0, 0)</td>\n",
       "      <td>None</td>\n",
       "      <td>0</td>\n",
       "      <td>0</td>\n",
       "      <td>0</td>\n",
       "      <td>(0, 0)</td>\n",
       "      <td>None</td>\n",
       "    </tr>\n",
       "    <tr>\n",
       "      <th>...</th>\n",
       "      <td>...</td>\n",
       "      <td>...</td>\n",
       "      <td>...</td>\n",
       "      <td>...</td>\n",
       "      <td>...</td>\n",
       "      <td>...</td>\n",
       "      <td>...</td>\n",
       "      <td>...</td>\n",
       "      <td>...</td>\n",
       "      <td>...</td>\n",
       "      <td>...</td>\n",
       "      <td>...</td>\n",
       "      <td>...</td>\n",
       "      <td>...</td>\n",
       "      <td>...</td>\n",
       "      <td>...</td>\n",
       "      <td>...</td>\n",
       "    </tr>\n",
       "    <tr>\n",
       "      <th>96492</th>\n",
       "      <td>ab_car_munich_urban_day_002_000269.png</td>\n",
       "      <td>1445.018250</td>\n",
       "      <td>1008.892178</td>\n",
       "      <td>81.573611</td>\n",
       "      <td>44.685696</td>\n",
       "      <td>CAR</td>\n",
       "      <td>1</td>\n",
       "      <td>0</td>\n",
       "      <td>1460.167635</td>\n",
       "      <td>1</td>\n",
       "      <td>(0, 0)</td>\n",
       "      <td>FRONT</td>\n",
       "      <td>0</td>\n",
       "      <td>0</td>\n",
       "      <td>0</td>\n",
       "      <td>(0, 0)</td>\n",
       "      <td>SIDE</td>\n",
       "    </tr>\n",
       "    <tr>\n",
       "      <th>96493</th>\n",
       "      <td>ab_car_munich_urban_day_002_000269.png</td>\n",
       "      <td>2095.859645</td>\n",
       "      <td>954.738743</td>\n",
       "      <td>110.559838</td>\n",
       "      <td>155.699758</td>\n",
       "      <td>BUS</td>\n",
       "      <td>1</td>\n",
       "      <td>0</td>\n",
       "      <td>2052.522918</td>\n",
       "      <td>1</td>\n",
       "      <td>(0, 0)</td>\n",
       "      <td>SIDE</td>\n",
       "      <td>0</td>\n",
       "      <td>0</td>\n",
       "      <td>0</td>\n",
       "      <td>(0, 0)</td>\n",
       "      <td>BACK</td>\n",
       "    </tr>\n",
       "    <tr>\n",
       "      <th>96494</th>\n",
       "      <td>ab_car_munich_urban_day_002_000269.png</td>\n",
       "      <td>3482.442100</td>\n",
       "      <td>1330.664689</td>\n",
       "      <td>558.194231</td>\n",
       "      <td>508.029601</td>\n",
       "      <td>BIKE_NLV</td>\n",
       "      <td>0</td>\n",
       "      <td>0</td>\n",
       "      <td>0.000000</td>\n",
       "      <td>1</td>\n",
       "      <td>(0, 0)</td>\n",
       "      <td>None</td>\n",
       "      <td>0</td>\n",
       "      <td>1</td>\n",
       "      <td>0</td>\n",
       "      <td>(0, 0)</td>\n",
       "      <td>None</td>\n",
       "    </tr>\n",
       "    <tr>\n",
       "      <th>96495</th>\n",
       "      <td>ab_car_munich_urban_day_002_000269.png</td>\n",
       "      <td>2375.449778</td>\n",
       "      <td>1030.686752</td>\n",
       "      <td>58.180409</td>\n",
       "      <td>82.008635</td>\n",
       "      <td>BIKE</td>\n",
       "      <td>0</td>\n",
       "      <td>0</td>\n",
       "      <td>0.000000</td>\n",
       "      <td>1</td>\n",
       "      <td>(0, 0)</td>\n",
       "      <td>None</td>\n",
       "      <td>0</td>\n",
       "      <td>1</td>\n",
       "      <td>0</td>\n",
       "      <td>(0, 0)</td>\n",
       "      <td>None</td>\n",
       "    </tr>\n",
       "    <tr>\n",
       "      <th>96496</th>\n",
       "      <td>ab_car_munich_urban_day_002_000269.png</td>\n",
       "      <td>564.920562</td>\n",
       "      <td>1031.074981</td>\n",
       "      <td>18.202569</td>\n",
       "      <td>68.842639</td>\n",
       "      <td>IGNORE_PEDESTRIAN</td>\n",
       "      <td>0</td>\n",
       "      <td>0</td>\n",
       "      <td>0.000000</td>\n",
       "      <td>1</td>\n",
       "      <td>(0, 0)</td>\n",
       "      <td>None</td>\n",
       "      <td>0</td>\n",
       "      <td>0</td>\n",
       "      <td>0</td>\n",
       "      <td>(0, 0)</td>\n",
       "      <td>None</td>\n",
       "    </tr>\n",
       "  </tbody>\n",
       "</table>\n",
       "<p>96497 rows × 17 columns</p>\n",
       "</div>"
      ],
      "text/plain": [
       "                                         name     x_center     y_center  \\\n",
       "0                        1662979321795878.png  2171.122632   970.353636   \n",
       "1                        1662979321795878.png  1880.390755   970.000000   \n",
       "2                        1662979321795878.png  2070.000000   994.000000   \n",
       "3                        1662979321795878.png  1659.000000   948.000000   \n",
       "4                        1662979321795878.png  1590.874271   946.900594   \n",
       "...                                       ...          ...          ...   \n",
       "96492  ab_car_munich_urban_day_002_000269.png  1445.018250  1008.892178   \n",
       "96493  ab_car_munich_urban_day_002_000269.png  2095.859645   954.738743   \n",
       "96494  ab_car_munich_urban_day_002_000269.png  3482.442100  1330.664689   \n",
       "96495  ab_car_munich_urban_day_002_000269.png  2375.449778  1030.686752   \n",
       "96496  ab_car_munich_urban_day_002_000269.png   564.920562  1031.074981   \n",
       "\n",
       "            width      height              label  is_occluded  is_truncated  \\\n",
       "0      156.774697  184.322566            TRAILER            0             0   \n",
       "1       83.218490   99.000000           VAN_CIPV            0             0   \n",
       "2       64.000000  113.500000            CAR_NLV            1             0   \n",
       "3       36.000000   11.000000     IGNORE_VEHICLE            0             0   \n",
       "4       25.344941   14.297744     IGNORE_VEHICLE            0             0   \n",
       "...           ...         ...                ...          ...           ...   \n",
       "96492   81.573611   44.685696                CAR            1             0   \n",
       "96493  110.559838  155.699758                BUS            1             0   \n",
       "96494  558.194231  508.029601           BIKE_NLV            0             0   \n",
       "96495   58.180409   82.008635               BIKE            0             0   \n",
       "96496   18.202569   68.842639  IGNORE_PEDESTRIAN            0             0   \n",
       "\n",
       "       d3_separation  custom_2 back_wheel l_label  is_not_in_lane  \\\n",
       "0        2117.500108         1     (0, 0)    SIDE               0   \n",
       "1           0.000000         1     (0, 0)    BACK               0   \n",
       "2        2075.689347         1     (0, 0)    SIDE               0   \n",
       "3           0.000000         1     (0, 0)    None               0   \n",
       "4           0.000000         1     (0, 0)    None               0   \n",
       "...              ...       ...        ...     ...             ...   \n",
       "96492    1460.167635         1     (0, 0)   FRONT               0   \n",
       "96493    2052.522918         1     (0, 0)    SIDE               0   \n",
       "96494       0.000000         1     (0, 0)    None               0   \n",
       "96495       0.000000         1     (0, 0)    None               0   \n",
       "96496       0.000000         1     (0, 0)    None               0   \n",
       "\n",
       "       is_rider_on_2_wheels  is_occluded_over_80 front_wheel r_label  \n",
       "0                         0                    0      (0, 0)    BACK  \n",
       "1                         0                    0      (0, 0)    BACK  \n",
       "2                         0                    0      (0, 0)    BACK  \n",
       "3                         0                    0      (0, 0)    None  \n",
       "4                         0                    0      (0, 0)    None  \n",
       "...                     ...                  ...         ...     ...  \n",
       "96492                     0                    0      (0, 0)    SIDE  \n",
       "96493                     0                    0      (0, 0)    BACK  \n",
       "96494                     1                    0      (0, 0)    None  \n",
       "96495                     1                    0      (0, 0)    None  \n",
       "96496                     0                    0      (0, 0)    None  \n",
       "\n",
       "[96497 rows x 17 columns]"
      ]
     },
     "execution_count": 3,
     "metadata": {},
     "output_type": "execute_result"
    }
   ],
   "source": [
    "gt_df = pd.read_csv(GT_PATH, sep='\\t')\n",
    "gt_df"
   ]
  },
  {
   "cell_type": "code",
   "execution_count": 4,
   "id": "345c22cc-67e1-4943-8c96-64bbd24fc2de",
   "metadata": {
    "tags": []
   },
   "outputs": [
    {
     "data": {
      "text/plain": [
       "(4441,\n",
       " array(['/home/ubuntu/git/B2B_ALGO/datasets/ab_car_validation_germany/images/1662976481024636.png',\n",
       "        '/home/ubuntu/git/B2B_ALGO/datasets/ab_car_validation_germany/images/1662976482957996.png',\n",
       "        '/home/ubuntu/git/B2B_ALGO/datasets/ab_car_validation_germany/images/1662976486024705.png'],\n",
       "       dtype=object))"
      ]
     },
     "execution_count": 4,
     "metadata": {},
     "output_type": "execute_result"
    }
   ],
   "source": [
    "paths  = f'{DATASET_PATH}/images' + '/' + np.unique(gt_df.name.values)\n",
    "len(paths), paths[:3]"
   ]
  },
  {
   "cell_type": "markdown",
   "id": "068502b5-a76e-4f6e-8f15-db0d80189843",
   "metadata": {
    "tags": []
   },
   "source": [
    "## Algo"
   ]
  },
  {
   "cell_type": "code",
   "execution_count": 5,
   "id": "6192f3fc-cd3e-4de7-a4b1-87009417553f",
   "metadata": {
    "tags": []
   },
   "outputs": [
    {
     "name": "stderr",
     "output_type": "stream",
     "text": [
      "Ultralytics YOLOv8.0.120 🚀 Python-3.8.16 torch-2.0.0+cu117 CUDA:0 (NVIDIA A10G, 22564MiB)\n",
      "Setup complete ✅ (16 CPUs, 62.1 GB RAM, 865.6/969.3 GB disk)\n"
     ]
    }
   ],
   "source": [
    "import ultralytics\n",
    "ultralytics.checks()"
   ]
  },
  {
   "cell_type": "code",
   "execution_count": 6,
   "id": "519fc958-616f-4b0a-98b2-7d153fbf1bfc",
   "metadata": {
    "tags": []
   },
   "outputs": [],
   "source": [
    "from ultralytics import YOLO\n",
    "\n",
    "model = YOLO('yolov8x.pt')\n",
    "model.conf = 0.25\n",
    "model.iou = 0.5\n",
    "# prediction = model.predict(image, imgsz=image_size, show=False, save=False)"
   ]
  },
  {
   "cell_type": "code",
   "execution_count": 10,
   "id": "89aa943f-53d7-48ac-be35-01d0d5f9b077",
   "metadata": {
    "tags": []
   },
   "outputs": [
    {
     "name": "stderr",
     "output_type": "stream",
     "text": [
      "\n",
      "image 1/1 /home/ubuntu/git/B2B_ALGO/datasets/ab_car_validation_germany/images/1662976481024636.png: 320x640 10 cars, 1 umbrella, 10.7ms\n",
      "Speed: 1.5ms preprocess, 10.7ms inference, 1.1ms postprocess per image at shape (1, 3, 640, 640)\n",
      "Results saved to \u001b[1mruns/detect/predict\u001b[0m\n"
     ]
    }
   ],
   "source": [
    "results = model.predict(paths[0],save=True)"
   ]
  },
  {
   "cell_type": "code",
   "execution_count": 9,
   "id": "2bc61889-cb09-4e44-9933-97868b1265e3",
   "metadata": {
    "tags": []
   },
   "outputs": [
    {
     "name": "stdout",
     "output_type": "stream",
     "text": [
      "Object type: car\n",
      "Coordinates: [1749, 948, 1988, 1024]\n",
      "Probability: 0.74\n",
      "---\n",
      "Object type: car\n",
      "Coordinates: [1361, 950, 1637, 1069]\n",
      "Probability: 0.72\n",
      "---\n",
      "Object type: car\n",
      "Coordinates: [308, 960, 569, 1083]\n",
      "Probability: 0.71\n",
      "---\n",
      "Object type: car\n",
      "Coordinates: [489, 954, 814, 1072]\n",
      "Probability: 0.55\n",
      "---\n",
      "Object type: umbrella\n",
      "Coordinates: [40, 9, 272, 189]\n",
      "Probability: 0.41\n",
      "---\n",
      "Object type: car\n",
      "Coordinates: [725, 942, 841, 1015]\n",
      "Probability: 0.4\n",
      "---\n",
      "Object type: car\n",
      "Coordinates: [829, 951, 1177, 1058]\n",
      "Probability: 0.4\n",
      "---\n",
      "Object type: car\n",
      "Coordinates: [1571, 937, 1793, 1019]\n",
      "Probability: 0.4\n",
      "---\n",
      "Object type: car\n",
      "Coordinates: [1148, 945, 1332, 1040]\n",
      "Probability: 0.4\n",
      "---\n",
      "Object type: car\n",
      "Coordinates: [789, 960, 977, 1058]\n",
      "Probability: 0.38\n",
      "---\n",
      "Object type: car\n",
      "Coordinates: [32, 934, 286, 1085]\n",
      "Probability: 0.38\n",
      "---\n"
     ]
    }
   ],
   "source": [
    "result = results[0]\n",
    "for box in result.boxes:\n",
    "  class_id = result.names[box.cls[0].item()]\n",
    "  cords = box.xyxy[0].tolist()\n",
    "  cords = [round(x) for x in cords]\n",
    "  conf = round(box.conf[0].item(), 2)\n",
    "  print(\"Object type:\", class_id)\n",
    "  print(\"Coordinates:\", cords)\n",
    "  print(\"Probability:\", conf)\n",
    "  print(\"---\")"
   ]
  },
  {
   "cell_type": "code",
   "execution_count": null,
   "id": "71d6ab64-c55f-4aad-843d-69f4a4423a1b",
   "metadata": {},
   "outputs": [],
   "source": []
  },
  {
   "cell_type": "code",
   "execution_count": null,
   "id": "5d271923-363f-4590-b844-c17555edd5bb",
   "metadata": {},
   "outputs": [],
   "source": []
  }
 ],
 "metadata": {
  "kernelspec": {
   "display_name": "open-mmlab",
   "language": "python",
   "name": "open-mmlab"
  },
  "language_info": {
   "codemirror_mode": {
    "name": "ipython",
    "version": 3
   },
   "file_extension": ".py",
   "mimetype": "text/x-python",
   "name": "python",
   "nbconvert_exporter": "python",
   "pygments_lexer": "ipython3",
   "version": "3.8.16"
  }
 },
 "nbformat": 4,
 "nbformat_minor": 5
}
