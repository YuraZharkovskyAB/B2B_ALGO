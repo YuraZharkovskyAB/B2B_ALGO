{
 "cells": [
  {
   "cell_type": "markdown",
   "id": "05bf894b-2c03-4976-8bff-1c3b2b398531",
   "metadata": {
    "tags": []
   },
   "source": [
    "## YoloV8 (detection on P0) "
   ]
  },
  {
   "cell_type": "code",
   "execution_count": null,
   "id": "b1d6a47e-76ef-44f7-900a-f783c1482d99",
   "metadata": {
    "tags": []
   },
   "outputs": [],
   "source": [
    "%load_ext autoreload\n",
    "%autoreload 2"
   ]
  },
  {
   "cell_type": "code",
   "execution_count": null,
   "id": "8b1b268c-2d1d-4864-93ab-e8f5303854af",
   "metadata": {
    "tags": []
   },
   "outputs": [],
   "source": [
    "import os\n",
    "import tqdm\n",
    "import mmcv\n",
    "import torch\n",
    "import json\n",
    "import numpy as np\n",
    "import pandas as pd\n",
    "import multiprocessing\n",
    "\n",
    "from ultralytics import YOLO\n",
    "\n",
    "from services.ultralytics_utils import to_detections"
   ]
  },
  {
   "cell_type": "markdown",
   "id": "7e38941c-79ba-4147-ac6d-6c1aaa24c93e",
   "metadata": {
    "tags": []
   },
   "source": [
    "## Constants"
   ]
  },
  {
   "cell_type": "code",
   "execution_count": null,
   "id": "08bafb5c-c364-447f-a6b8-6ff498a82f6e",
   "metadata": {
    "tags": []
   },
   "outputs": [],
   "source": [
    "DATASET_PATH = '/home/ubuntu/git/B2B_ALGO/datasets/ab_car_validation_germany'\n",
    "GT_PATH = f'{DATASET_PATH}/annotations/gt.tsv'\n",
    "\n",
    "RESULTS_PATH = '/home/ubuntu/git/B2B_ALGO/results/ALGO1'"
   ]
  },
  {
   "cell_type": "markdown",
   "id": "d542ad1f-c55c-4e76-a37f-6b9584ad1f76",
   "metadata": {
    "tags": []
   },
   "source": [
    "## Data"
   ]
  },
  {
   "cell_type": "code",
   "execution_count": null,
   "id": "27743938-fde3-49ac-a690-968f9bdd8e5e",
   "metadata": {
    "tags": []
   },
   "outputs": [],
   "source": [
    "gt_df = pd.read_csv(GT_PATH, sep='\\t')\n",
    "gt_df"
   ]
  },
  {
   "cell_type": "code",
   "execution_count": null,
   "id": "345c22cc-67e1-4943-8c96-64bbd24fc2de",
   "metadata": {
    "tags": []
   },
   "outputs": [],
   "source": [
    "paths  = f'{DATASET_PATH}/images' + '/' + np.unique(gt_df.name.values)\n",
    "paths[:1], len(paths)"
   ]
  },
  {
   "cell_type": "markdown",
   "id": "03c092ff-a212-4bd7-97b3-6efde1beb55b",
   "metadata": {},
   "source": [
    "## Algo"
   ]
  },
  {
   "cell_type": "code",
   "execution_count": null,
   "id": "519fc958-616f-4b0a-98b2-7d153fbf1bfc",
   "metadata": {
    "tags": []
   },
   "outputs": [],
   "source": [
    "%%time\n",
    "model = YOLO('weights/yolov8x.pt')"
   ]
  },
  {
   "cell_type": "code",
   "execution_count": null,
   "id": "d1276fa7-50d7-4476-9fed-8db257bff9d7",
   "metadata": {
    "tags": []
   },
   "outputs": [],
   "source": [
    "predict_fn = lambda path: model.predict(path, imgsz=(1920, 3840), conf = 0.1, iou = 0.7, classes=[0, 1, 2, 3, 5,7], line_width=1, show=False, save=False, verbose=False)[0]\n",
    "\n",
    "records = map(lambda path: (path, predict_fn(path)), paths)"
   ]
  },
  {
   "cell_type": "code",
   "execution_count": null,
   "id": "12477686-9b7b-4557-b3c1-3e1466a5ce41",
   "metadata": {
    "tags": []
   },
   "outputs": [],
   "source": [
    "%%time\n",
    "det_df = to_detections(records)\n",
    "det_df"
   ]
  },
  {
   "cell_type": "markdown",
   "id": "552ca424-7c4f-47a7-bc08-0b4f20fb2bba",
   "metadata": {
    "tags": []
   },
   "source": [
    "## Save Detections"
   ]
  },
  {
   "cell_type": "code",
   "execution_count": null,
   "id": "f587aa9a-9718-434e-9154-7ff686c4b7e2",
   "metadata": {
    "tags": []
   },
   "outputs": [],
   "source": [
    "!mkdir -p {RESULTS_PATH}\n",
    "\n",
    "det_df.to_csv(f'{RESULTS_PATH}/det.tsv', sep='\\t',index=False)"
   ]
  }
 ],
 "metadata": {
  "kernelspec": {
   "display_name": "open-mmlab",
   "language": "python",
   "name": "open-mmlab"
  },
  "language_info": {
   "codemirror_mode": {
    "name": "ipython",
    "version": 3
   },
   "file_extension": ".py",
   "mimetype": "text/x-python",
   "name": "python",
   "nbconvert_exporter": "python",
   "pygments_lexer": "ipython3",
   "version": "3.8.16"
  }
 },
 "nbformat": 4,
 "nbformat_minor": 5
}
